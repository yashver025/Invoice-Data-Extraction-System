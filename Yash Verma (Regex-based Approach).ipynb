{
  "nbformat": 4,
  "nbformat_minor": 0,
  "metadata": {
    "colab": {
      "provenance": [],
      "gpuType": "T4"
    },
    "kernelspec": {
      "name": "python3",
      "display_name": "Python 3"
    },
    "language_info": {
      "name": "python"
    },
    "accelerator": "GPU"
  },
  "cells": [
    {
      "cell_type": "code",
      "source": [
        "!pip install PyPDF2 pdfminer.six pytesseract opencv-python-headless numpy pandas pdf2image\n",
        "!apt-get install -y poppler-utils tesseract-ocr"
      ],
      "metadata": {
        "id": "Ll81s6bbcK3Y"
      },
      "execution_count": null,
      "outputs": []
    },
    {
      "cell_type": "markdown",
      "source": [
        "# New Section"
      ],
      "metadata": {
        "id": "EucZevYtcXl9"
      }
    },
    {
      "cell_type": "code",
      "source": [
        "import io\n",
        "import PyPDF2\n",
        "import pytesseract\n",
        "from pdf2image import convert_from_path\n",
        "\n",
        "# extracts text from a non-scanned PDFs\n",
        "def extract_text_from_pdf(file_path):\n",
        "    with open(file_path, 'rb') as file:\n",
        "        reader = PyPDF2.PdfReader(file)\n",
        "        text = ''\n",
        "        for page in reader.pages:\n",
        "            text += page.extract_text()\n",
        "    print(text)\n",
        "    return text\n",
        "# extracts text from a scanned PDF using OCR Tesseract\n",
        "def extract_text_from_scanned_pdf(file_path):\n",
        "    images = convert_from_path(file_path)\n",
        "    text = ''\n",
        "    for image in images:\n",
        "        text += pytesseract.image_to_string(image)\n",
        "    print(text)\n",
        "    return text"
      ],
      "metadata": {
        "id": "pk5x_d_7cQM6"
      },
      "execution_count": null,
      "outputs": []
    },
    {
      "cell_type": "markdown",
      "source": [],
      "metadata": {
        "id": "imhuPjrbcyXY"
      }
    },
    {
      "cell_type": "code",
      "source": [
        "# extracts invoice-related data from the extracted text using regex patterns\n",
        "import re\n",
        "\n",
        "def extract_invoice_data(text):\n",
        "    # regex patterns\n",
        "    patterns = {\n",
        "        'taxable_value': r'Sub Total\\s*₹\\s*([\\d,.]+)',\n",
        "        'sgst_amount': r'SGST@\\d+\\.?\\d*%\\s*₹\\s*([\\d,.]+)',\n",
        "        'cgst_amount': r'CGST@\\d+\\.?\\d*%\\s*₹\\s*([\\d,.]+)',\n",
        "        'igst_amount': r'IGST@\\d+\\.?\\d*%\\s*₹\\s*([\\d,.]+)',\n",
        "        'sgst_rate': r'SGST@(\\d+\\.?\\d*)%',\n",
        "        'cgst_rate': r'CGST@(\\d+\\.?\\d*)%',\n",
        "        'igst_rate': r'IGST@(\\d+\\.?\\d*)%',\n",
        "        'tax_amount': r'Total\\s*₹\\s*([\\d,.]+)',\n",
        "        'final_amount': r'Total\\s*₹\\s*([\\d,.]+)',\n",
        "        'invoice_number': r'Invoice No\\.:\\s*(\\d+)',\n",
        "        'invoice_date': r'Date:\\s*([\\d/]+)',\n",
        "        'place_of_supply': r'Place of Supply:\\s*(\\d+-\\w+)',\n",
        "        'place_of_origin': r'State:\\s*(\\d+-\\w+)',\n",
        "        'gstin_supplier': r'GSTIN:\\s*([A-Z0-9]{15})',\n",
        "        'gstin_recipient': r'GSTIN Number:\\s*([A-Z0-9]{15})'\n",
        "    }\n",
        "\n",
        "\n",
        "    data = {}\n",
        "    for key, pattern in patterns.items():\n",
        "        match = re.search(pattern, text)\n",
        "        data[key] = match.group(1).replace(',', '') if match else '0'\n",
        "\n",
        "    # convert numeric fields to float\n",
        "    numeric_fields = ['taxable_value', 'sgst_amount', 'cgst_amount', 'igst_amount', 'tax_amount', 'final_amount']\n",
        "    for field in numeric_fields:\n",
        "        if data[field]:\n",
        "            try:\n",
        "                data[field] = float(data[field])\n",
        "            except ValueError:\n",
        "                data[field] = 0\n",
        "\n",
        "    # calculate taxable amount\n",
        "    if True:\n",
        "        data['taxable_value'] = data['final_amount'] - (data['sgst_amount'] + data['cgst_amount'] + data['igst_amount'])\n",
        "    else:\n",
        "        data['taxable_value'] = '0'\n",
        "\n",
        "    # calculate tax amount\n",
        "    if True:\n",
        "        data['tax_amount'] = (data['sgst_amount'] + data['cgst_amount'] + data['igst_amount'])\n",
        "    else:\n",
        "        data['tax_amount'] = '0'\n",
        "\n",
        "\n",
        "    debug = False\n",
        "    if debug:\n",
        "        for key, value in data.items():\n",
        "            print(f\"{key}: {value}\")\n",
        "\n",
        "    return data\n",
        "\n"
      ],
      "metadata": {
        "id": "AD-Y6UinfHEx"
      },
      "execution_count": null,
      "outputs": []
    },
    {
      "cell_type": "code",
      "source": [],
      "metadata": {
        "id": "ZqjPEbZ6hhkk"
      },
      "execution_count": null,
      "outputs": []
    },
    {
      "cell_type": "code",
      "source": [
        "text = extract_text_from_pdf('/content/03Jul_Invoice_615.pdf')\n",
        "data = extract_invoice_data(text)\n",
        "print(data)"
      ],
      "metadata": {
        "colab": {
          "base_uri": "https://localhost:8080/"
        },
        "id": "pA-v1X6OdITS",
        "outputId": "f6871d63-b342-4ba6-ca95-5f79e46c0225"
      },
      "execution_count": null,
      "outputs": [
        {
          "output_type": "stream",
          "name": "stdout",
          "text": [
            "TAX INVOICE\n",
            "KPP Hometown OrganicsAddress:6/549 Puthur Maariyamman Kovil st,Bye Pass 4 Cross Road Palacode,Dharmapuri, Tamilnadu - 636808Phone:9994218657Email:organicsfromhometown@gmail.comGSTIN:33BDNPN7360K1Z3State:33 - Tamil NaduInvoice No.: 615Date:03/07/2024Place of Supply:29-KarnatakaBill To:Sri Mahalakshmi EnterprisesNO.10/41 APMC YARD 6TH MAIN ROAD YESHWANTHPURContact No.:08026705904, 08048903677GSTIN Number:29AGWPA9333Q1ZEState:29-KarnatakaTransporta\u0000on Details:Delivery Date:03/07/24Delivery Loca\u0000on:YeshwanthpurShip To:NO.10/41 APMC YARD 6TH MAIN ROAD YESHWANTHPUR#Item nameHSN/ SACQuan\u0000tyUnitPrice/ UnitGSTAmount1HTO Jaggery Powder170130Box₹ 590.00₹ 885.00 (5%)₹ 18,585.00Total30₹ 885.00₹ 18,585.00\n",
            "Pay To:Bank Name : AXIS BANK, DHARMAPURIBank Account No. : 921020007484915Bank IFSC code : UTIB0000889Account holder's name : KPP Hometown Organics Invoice Amount In WordsEighteen Thousand Five Hundred Eighty Five Rupees onlyTerms And Condi\u0000ons-Price diﬀerences between invoice issued for the same products may be due to market ﬂuctua\u0000on and/orchanges in other costs of manufacturing or on raw material acquisi\u0000on. -Products are properly packed and secured in such a manner to reach their des\u0000na\u0000on in good state under the normal condi\u0000ons of transport. -The Customer should examine products immediately a\u0000er delivery and the Company will not be liable forany mis-delivery, shortage, defect or damage unless the Company receive details in wri\u0000ng within the dateof the arrival of goods. -In the event of damage or loss in transit, the Company will alter or replace products free of charge. TheCustomer shall promptly no\u0000fy the Company wri\u0000en no\u0000ﬁca\u0000on of such damage or loss with a proof ofphotographs within the date of delivery. -Payments are to be made to the Company without any deduc\u0000on or discount other than as stated inthese Terms or in the relevant invoice or statement. -All Invoices and Contracts placed with the Company are subject to these Terms and Condi\u0000ons. TheCompany may at any \u0000me vary or alter these Terms and Condi\u0000ons. For : KPP Hometown Organics\n",
            "Authorized SignatorySub Total₹ 17,700.00IGST@5%₹ 885.00Total₹ 18,585.00\n",
            "{'taxable_value': 16815.0, 'sgst_amount': 0.0, 'cgst_amount': 0.0, 'igst_amount': 885.0, 'sgst_rate': '0', 'cgst_rate': '0', 'igst_rate': '5', 'tax_amount': 885.0, 'final_amount': 17700.0, 'invoice_number': '615', 'invoice_date': '03/07/2024', 'place_of_supply': '29-KarnatakaBill', 'place_of_origin': '29-KarnatakaTransporta', 'gstin_supplier': '33BDNPN7360K1Z3', 'gstin_recipient': '29AGWPA9333Q1ZE'}\n"
          ]
        }
      ]
    },
    {
      "cell_type": "code",
      "source": [
        "# saves extracted invoice data to a CSV file and download it.\n",
        "import pandas as pd\n",
        "from google.colab import files\n",
        "\n",
        "df = pd.DataFrame([data])\n",
        "print(df)\n",
        "df.to_csv('extracted_invoices.csv', index=False)\n",
        "files.download('extracted_invoices.csv')"
      ],
      "metadata": {
        "colab": {
          "base_uri": "https://localhost:8080/",
          "height": 156
        },
        "id": "ev_Ec6uYcsOX",
        "outputId": "8944d85f-84fc-4275-ef60-d453147d4016"
      },
      "execution_count": null,
      "outputs": [
        {
          "output_type": "stream",
          "name": "stdout",
          "text": [
            "   taxable_value  sgst_amount  cgst_amount  igst_amount sgst_rate cgst_rate  \\\n",
            "0        16815.0          0.0          0.0        885.0         0         0   \n",
            "\n",
            "  igst_rate  tax_amount  final_amount invoice_number invoice_date  \\\n",
            "0         5       885.0       17700.0            615   03/07/2024   \n",
            "\n",
            "    place_of_supply         place_of_origin   gstin_supplier  gstin_recipient  \n",
            "0  29-KarnatakaBill  29-KarnatakaTransporta  33BDNPN7360K1Z3  29AGWPA9333Q1ZE  \n"
          ]
        },
        {
          "output_type": "display_data",
          "data": {
            "text/plain": [
              "<IPython.core.display.Javascript object>"
            ],
            "application/javascript": [
              "\n",
              "    async function download(id, filename, size) {\n",
              "      if (!google.colab.kernel.accessAllowed) {\n",
              "        return;\n",
              "      }\n",
              "      const div = document.createElement('div');\n",
              "      const label = document.createElement('label');\n",
              "      label.textContent = `Downloading \"${filename}\": `;\n",
              "      div.appendChild(label);\n",
              "      const progress = document.createElement('progress');\n",
              "      progress.max = size;\n",
              "      div.appendChild(progress);\n",
              "      document.body.appendChild(div);\n",
              "\n",
              "      const buffers = [];\n",
              "      let downloaded = 0;\n",
              "\n",
              "      const channel = await google.colab.kernel.comms.open(id);\n",
              "      // Send a message to notify the kernel that we're ready.\n",
              "      channel.send({})\n",
              "\n",
              "      for await (const message of channel.messages) {\n",
              "        // Send a message to notify the kernel that we're ready.\n",
              "        channel.send({})\n",
              "        if (message.buffers) {\n",
              "          for (const buffer of message.buffers) {\n",
              "            buffers.push(buffer);\n",
              "            downloaded += buffer.byteLength;\n",
              "            progress.value = downloaded;\n",
              "          }\n",
              "        }\n",
              "      }\n",
              "      const blob = new Blob(buffers, {type: 'application/binary'});\n",
              "      const a = document.createElement('a');\n",
              "      a.href = window.URL.createObjectURL(blob);\n",
              "      a.download = filename;\n",
              "      div.appendChild(a);\n",
              "      a.click();\n",
              "      div.remove();\n",
              "    }\n",
              "  "
            ]
          },
          "metadata": {}
        },
        {
          "output_type": "display_data",
          "data": {
            "text/plain": [
              "<IPython.core.display.Javascript object>"
            ],
            "application/javascript": [
              "download(\"download_732c9776-ba64-4c13-acb8-198e7632d46f\", \"extracted_invoices.csv\", 324)"
            ]
          },
          "metadata": {}
        }
      ]
    }
  ]
}